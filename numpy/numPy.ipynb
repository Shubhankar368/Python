{
 "cells": [
  {
   "cell_type": "code",
   "execution_count": 1,
   "id": "cecba3a2-519e-461d-916a-4029066d7c92",
   "metadata": {},
   "outputs": [],
   "source": [
    "import numpy as np"
   ]
  },
  {
   "cell_type": "code",
   "execution_count": 2,
   "id": "91340de2-cbeb-436c-865a-26e12baf582f",
   "metadata": {},
   "outputs": [],
   "source": [
    "arr1=np.array([1,2,54,36],np.int16)"
   ]
  },
  {
   "cell_type": "code",
   "execution_count": 3,
   "id": "b477fab9-95d9-497a-885b-56ee73cd50d7",
   "metadata": {},
   "outputs": [
    {
     "data": {
      "text/plain": [
       "array([ 1,  2, 54, 36], dtype=int16)"
      ]
     },
     "execution_count": 3,
     "metadata": {},
     "output_type": "execute_result"
    }
   ],
   "source": [
    "arr1"
   ]
  },
  {
   "cell_type": "code",
   "execution_count": 4,
   "id": "ce306d53-9111-4aa9-888b-6c86b3a81708",
   "metadata": {},
   "outputs": [
    {
     "name": "stdout",
     "output_type": "stream",
     "text": [
      "[ 1  2 54 36]\n"
     ]
    }
   ],
   "source": [
    "print(arr1)"
   ]
  },
  {
   "cell_type": "code",
   "execution_count": 5,
   "id": "6b6d79ba-ab04-4497-b926-5edce7017958",
   "metadata": {},
   "outputs": [
    {
     "name": "stdout",
     "output_type": "stream",
     "text": [
      "36\n"
     ]
    }
   ],
   "source": [
    "print(arr1[3])"
   ]
  },
  {
   "cell_type": "code",
   "execution_count": 6,
   "id": "0aee7884-4242-42f3-af47-b03d1ac25104",
   "metadata": {},
   "outputs": [],
   "source": [
    "arr2=np.array([[1,2,4,7,8]],np.int16)"
   ]
  },
  {
   "cell_type": "code",
   "execution_count": 7,
   "id": "b3500159-f88f-49ad-999b-ca0e7b267ef0",
   "metadata": {},
   "outputs": [
    {
     "data": {
      "text/plain": [
       "array([[1, 2, 4, 7, 8]], dtype=int16)"
      ]
     },
     "execution_count": 7,
     "metadata": {},
     "output_type": "execute_result"
    }
   ],
   "source": [
    "arr2"
   ]
  },
  {
   "cell_type": "code",
   "execution_count": 8,
   "id": "c492e1da-fb5d-486c-bb41-d2ed8aa2d6b0",
   "metadata": {},
   "outputs": [
    {
     "name": "stdout",
     "output_type": "stream",
     "text": [
      "7\n"
     ]
    }
   ],
   "source": [
    "print(arr2[0,3])"
   ]
  },
  {
   "cell_type": "markdown",
   "id": "40222d13-defa-448b-bedc-272a92ab9eb0",
   "metadata": {},
   "source": [
    "# array creation"
   ]
  },
  {
   "cell_type": "code",
   "execution_count": 9,
   "id": "7ff1ad76-7a7a-4e93-8353-0011940869c8",
   "metadata": {},
   "outputs": [],
   "source": [
    "ar3=np.array([[1,2,3],[4,5,6],[3,7,5]],np.int16)"
   ]
  },
  {
   "cell_type": "code",
   "execution_count": 10,
   "id": "27652187-831c-4e17-a1ab-909640883f94",
   "metadata": {},
   "outputs": [
    {
     "name": "stdout",
     "output_type": "stream",
     "text": [
      "[[1 2 3]\n",
      " [4 5 6]\n",
      " [3 7 5]]\n"
     ]
    }
   ],
   "source": [
    "print(ar3)"
   ]
  },
  {
   "cell_type": "code",
   "execution_count": 11,
   "id": "29544c7e-6b45-436b-b30e-0584e9fae031",
   "metadata": {},
   "outputs": [
    {
     "data": {
      "text/plain": [
       "dtype('int16')"
      ]
     },
     "execution_count": 11,
     "metadata": {},
     "output_type": "execute_result"
    }
   ],
   "source": [
    "ar3.dtype"
   ]
  },
  {
   "cell_type": "code",
   "execution_count": 12,
   "id": "d281fdcf-7efa-43e7-959b-ab134285a3c1",
   "metadata": {},
   "outputs": [
    {
     "data": {
      "text/plain": [
       "(3, 3)"
      ]
     },
     "execution_count": 12,
     "metadata": {},
     "output_type": "execute_result"
    }
   ],
   "source": [
    "ar3.shape"
   ]
  },
  {
   "cell_type": "code",
   "execution_count": 13,
   "id": "e6f6f12a-1a0f-4796-bc18-c8b6d157b560",
   "metadata": {},
   "outputs": [
    {
     "data": {
      "text/plain": [
       "9"
      ]
     },
     "execution_count": 13,
     "metadata": {},
     "output_type": "execute_result"
    }
   ],
   "source": [
    "ar3.size"
   ]
  },
  {
   "cell_type": "code",
   "execution_count": 14,
   "id": "a6b9363f-8c8d-499c-a650-78edd3811034",
   "metadata": {},
   "outputs": [],
   "source": [
    "zeros=np.zeros((3,5))"
   ]
  },
  {
   "cell_type": "code",
   "execution_count": 15,
   "id": "5f9e1ef8-bd08-4525-950b-0547184cfbeb",
   "metadata": {},
   "outputs": [
    {
     "data": {
      "text/plain": [
       "array([[0., 0., 0., 0., 0.],\n",
       "       [0., 0., 0., 0., 0.],\n",
       "       [0., 0., 0., 0., 0.]])"
      ]
     },
     "execution_count": 15,
     "metadata": {},
     "output_type": "execute_result"
    }
   ],
   "source": [
    "zeros"
   ]
  },
  {
   "cell_type": "code",
   "execution_count": 16,
   "id": "366ccda4-347b-4aaa-8264-c12dfd21a70f",
   "metadata": {},
   "outputs": [],
   "source": [
    "range=np.arange(2,99)"
   ]
  },
  {
   "cell_type": "code",
   "execution_count": 17,
   "id": "018e26d1-4dd3-43cc-b5c3-225e33252600",
   "metadata": {},
   "outputs": [
    {
     "data": {
      "text/plain": [
       "array([ 2,  3,  4,  5,  6,  7,  8,  9, 10, 11, 12, 13, 14, 15, 16, 17, 18,\n",
       "       19, 20, 21, 22, 23, 24, 25, 26, 27, 28, 29, 30, 31, 32, 33, 34, 35,\n",
       "       36, 37, 38, 39, 40, 41, 42, 43, 44, 45, 46, 47, 48, 49, 50, 51, 52,\n",
       "       53, 54, 55, 56, 57, 58, 59, 60, 61, 62, 63, 64, 65, 66, 67, 68, 69,\n",
       "       70, 71, 72, 73, 74, 75, 76, 77, 78, 79, 80, 81, 82, 83, 84, 85, 86,\n",
       "       87, 88, 89, 90, 91, 92, 93, 94, 95, 96, 97, 98])"
      ]
     },
     "execution_count": 17,
     "metadata": {},
     "output_type": "execute_result"
    }
   ],
   "source": [
    "range"
   ]
  },
  {
   "cell_type": "code",
   "execution_count": 18,
   "id": "4c71e440-80ce-42c5-816b-81c836f7c6f2",
   "metadata": {},
   "outputs": [],
   "source": [
    "lnspace=np.linspace(0,12,100)"
   ]
  },
  {
   "cell_type": "code",
   "execution_count": 19,
   "id": "d999e4cd-00cc-4495-90fb-15f1f268d022",
   "metadata": {},
   "outputs": [
    {
     "name": "stdout",
     "output_type": "stream",
     "text": [
      "[ 0.          0.12121212  0.24242424  0.36363636  0.48484848  0.60606061\n",
      "  0.72727273  0.84848485  0.96969697  1.09090909  1.21212121  1.33333333\n",
      "  1.45454545  1.57575758  1.6969697   1.81818182  1.93939394  2.06060606\n",
      "  2.18181818  2.3030303   2.42424242  2.54545455  2.66666667  2.78787879\n",
      "  2.90909091  3.03030303  3.15151515  3.27272727  3.39393939  3.51515152\n",
      "  3.63636364  3.75757576  3.87878788  4.          4.12121212  4.24242424\n",
      "  4.36363636  4.48484848  4.60606061  4.72727273  4.84848485  4.96969697\n",
      "  5.09090909  5.21212121  5.33333333  5.45454545  5.57575758  5.6969697\n",
      "  5.81818182  5.93939394  6.06060606  6.18181818  6.3030303   6.42424242\n",
      "  6.54545455  6.66666667  6.78787879  6.90909091  7.03030303  7.15151515\n",
      "  7.27272727  7.39393939  7.51515152  7.63636364  7.75757576  7.87878788\n",
      "  8.          8.12121212  8.24242424  8.36363636  8.48484848  8.60606061\n",
      "  8.72727273  8.84848485  8.96969697  9.09090909  9.21212121  9.33333333\n",
      "  9.45454545  9.57575758  9.6969697   9.81818182  9.93939394 10.06060606\n",
      " 10.18181818 10.3030303  10.42424242 10.54545455 10.66666667 10.78787879\n",
      " 10.90909091 11.03030303 11.15151515 11.27272727 11.39393939 11.51515152\n",
      " 11.63636364 11.75757576 11.87878788 12.        ]\n"
     ]
    }
   ],
   "source": [
    "print(lnspace)"
   ]
  },
  {
   "cell_type": "code",
   "execution_count": 20,
   "id": "62695074-07c7-4b92-9260-f8856bb6f7c8",
   "metadata": {},
   "outputs": [],
   "source": [
    "random=np.empty((4,6))"
   ]
  },
  {
   "cell_type": "code",
   "execution_count": 21,
   "id": "bb89836e-20ca-416a-94c7-1c959fd83029",
   "metadata": {},
   "outputs": [
    {
     "data": {
      "text/plain": [
       "array([[0., 0., 0., 0., 0., 0.],\n",
       "       [0., 0., 0., 0., 0., 0.],\n",
       "       [0., 0., 0., 0., 0., 0.],\n",
       "       [0., 0., 0., 0., 0., 0.]])"
      ]
     },
     "execution_count": 21,
     "metadata": {},
     "output_type": "execute_result"
    }
   ],
   "source": [
    "random"
   ]
  },
  {
   "cell_type": "code",
   "execution_count": 22,
   "id": "cf692006-1c49-47dc-a54f-49474e07da9d",
   "metadata": {},
   "outputs": [],
   "source": [
    "random1=np.empty((3,5))"
   ]
  },
  {
   "cell_type": "code",
   "execution_count": 23,
   "id": "f1d0954a-5f5b-4983-8351-319114ee7db8",
   "metadata": {},
   "outputs": [
    {
     "data": {
      "text/plain": [
       "array([[0., 0., 0., 0., 0.],\n",
       "       [0., 0., 0., 0., 0.],\n",
       "       [0., 0., 0., 0., 0.]])"
      ]
     },
     "execution_count": 23,
     "metadata": {},
     "output_type": "execute_result"
    }
   ],
   "source": [
    "random1"
   ]
  },
  {
   "cell_type": "code",
   "execution_count": 24,
   "id": "3c53327f-9e9e-481d-bf9a-45c0bad47da5",
   "metadata": {},
   "outputs": [],
   "source": [
    "empty_like=np.empty_like(random)"
   ]
  },
  {
   "cell_type": "code",
   "execution_count": 25,
   "id": "69a753fa-ebf1-4f67-b87a-f45d4aa17ca7",
   "metadata": {},
   "outputs": [
    {
     "data": {
      "text/plain": [
       "array([[0., 0., 0., 0., 0., 0.],\n",
       "       [0., 0., 0., 0., 0., 0.],\n",
       "       [0., 0., 0., 0., 0., 0.],\n",
       "       [0., 0., 0., 0., 0., 0.]])"
      ]
     },
     "execution_count": 25,
     "metadata": {},
     "output_type": "execute_result"
    }
   ],
   "source": [
    "empty_like"
   ]
  },
  {
   "cell_type": "code",
   "execution_count": 26,
   "id": "241c3398-1101-49d0-8910-d8e48fcea3cf",
   "metadata": {},
   "outputs": [],
   "source": [
    "iden1=np.arange(64)"
   ]
  },
  {
   "cell_type": "code",
   "execution_count": 27,
   "id": "1c9ec072-e8a8-4479-abe8-5877cc3c54d4",
   "metadata": {},
   "outputs": [
    {
     "data": {
      "text/plain": [
       "array([ 0,  1,  2,  3,  4,  5,  6,  7,  8,  9, 10, 11, 12, 13, 14, 15, 16,\n",
       "       17, 18, 19, 20, 21, 22, 23, 24, 25, 26, 27, 28, 29, 30, 31, 32, 33,\n",
       "       34, 35, 36, 37, 38, 39, 40, 41, 42, 43, 44, 45, 46, 47, 48, 49, 50,\n",
       "       51, 52, 53, 54, 55, 56, 57, 58, 59, 60, 61, 62, 63])"
      ]
     },
     "execution_count": 27,
     "metadata": {},
     "output_type": "execute_result"
    }
   ],
   "source": [
    "iden1"
   ]
  },
  {
   "cell_type": "code",
   "execution_count": 28,
   "id": "69a6b6f8-1340-41e3-abe7-ca4c0bd00b19",
   "metadata": {},
   "outputs": [
    {
     "data": {
      "text/plain": [
       "array([[ 0,  1,  2,  3,  4,  5,  6,  7],\n",
       "       [ 8,  9, 10, 11, 12, 13, 14, 15],\n",
       "       [16, 17, 18, 19, 20, 21, 22, 23],\n",
       "       [24, 25, 26, 27, 28, 29, 30, 31],\n",
       "       [32, 33, 34, 35, 36, 37, 38, 39],\n",
       "       [40, 41, 42, 43, 44, 45, 46, 47],\n",
       "       [48, 49, 50, 51, 52, 53, 54, 55],\n",
       "       [56, 57, 58, 59, 60, 61, 62, 63]])"
      ]
     },
     "execution_count": 28,
     "metadata": {},
     "output_type": "execute_result"
    }
   ],
   "source": [
    "iden1.reshape(8,8)"
   ]
  },
  {
   "cell_type": "code",
   "execution_count": 29,
   "id": "e24fba81-4cfb-4634-b934-61bd985af38a",
   "metadata": {},
   "outputs": [
    {
     "data": {
      "text/plain": [
       "array([ 0,  1,  2,  3,  4,  5,  6,  7,  8,  9, 10, 11, 12, 13, 14, 15, 16,\n",
       "       17, 18, 19, 20, 21, 22, 23, 24, 25, 26, 27, 28, 29, 30, 31, 32, 33,\n",
       "       34, 35, 36, 37, 38, 39, 40, 41, 42, 43, 44, 45, 46, 47, 48, 49, 50,\n",
       "       51, 52, 53, 54, 55, 56, 57, 58, 59, 60, 61, 62, 63])"
      ]
     },
     "execution_count": 29,
     "metadata": {},
     "output_type": "execute_result"
    }
   ],
   "source": [
    "iden1.ravel()"
   ]
  },
  {
   "cell_type": "code",
   "execution_count": 30,
   "id": "2a411fe8-2a6a-4517-9159-896ea0f29436",
   "metadata": {},
   "outputs": [
    {
     "data": {
      "text/plain": [
       "array([ 0,  1,  2,  3,  4,  5,  6,  7,  8,  9, 10, 11, 12, 13, 14, 15, 16,\n",
       "       17, 18, 19, 20, 21, 22, 23, 24, 25, 26, 27, 28, 29, 30, 31, 32, 33,\n",
       "       34, 35, 36, 37, 38, 39, 40, 41, 42, 43, 44, 45, 46, 47, 48, 49, 50,\n",
       "       51, 52, 53, 54, 55, 56, 57, 58, 59, 60, 61, 62, 63])"
      ]
     },
     "execution_count": 30,
     "metadata": {},
     "output_type": "execute_result"
    }
   ],
   "source": [
    "iden1"
   ]
  },
  {
   "cell_type": "code",
   "execution_count": 31,
   "id": "deacc022-bcaf-4f19-9795-8f22c38d58b2",
   "metadata": {},
   "outputs": [
    {
     "data": {
      "text/plain": [
       "(64,)"
      ]
     },
     "execution_count": 31,
     "metadata": {},
     "output_type": "execute_result"
    }
   ],
   "source": [
    "iden1.shape"
   ]
  },
  {
   "cell_type": "code",
   "execution_count": 32,
   "id": "8f3464ea-08dc-4f21-8f9e-d20611153132",
   "metadata": {},
   "outputs": [
    {
     "data": {
      "text/plain": [
       "64"
      ]
     },
     "execution_count": 32,
     "metadata": {},
     "output_type": "execute_result"
    }
   ],
   "source": [
    "iden1.size"
   ]
  },
  {
   "cell_type": "code",
   "execution_count": 33,
   "id": "bd2612d8-8358-40c7-acc6-a7243c9862aa",
   "metadata": {},
   "outputs": [],
   "source": [
    "matrix1=np.array(([1,4,3],[3,5,9],[3,9,6]))"
   ]
  },
  {
   "cell_type": "code",
   "execution_count": 34,
   "id": "50d6fffd-f102-4dfd-a778-53a62cac0f86",
   "metadata": {},
   "outputs": [
    {
     "data": {
      "text/plain": [
       "array([[1, 4, 3],\n",
       "       [3, 5, 9],\n",
       "       [3, 9, 6]])"
      ]
     },
     "execution_count": 34,
     "metadata": {},
     "output_type": "execute_result"
    }
   ],
   "source": [
    "matrix1"
   ]
  },
  {
   "cell_type": "code",
   "execution_count": 35,
   "id": "e706d96d-73d1-4f05-94ba-91b2c39d75f0",
   "metadata": {},
   "outputs": [
    {
     "data": {
      "text/plain": [
       "array([ 7, 18, 18])"
      ]
     },
     "execution_count": 35,
     "metadata": {},
     "output_type": "execute_result"
    }
   ],
   "source": [
    "matrix1.sum(axis=0)"
   ]
  },
  {
   "cell_type": "code",
   "execution_count": 36,
   "id": "bc6647b4-f506-480c-8b39-9c5c7b821d21",
   "metadata": {},
   "outputs": [
    {
     "data": {
      "text/plain": [
       "array([ 8, 17, 18])"
      ]
     },
     "execution_count": 36,
     "metadata": {},
     "output_type": "execute_result"
    }
   ],
   "source": [
    "matrix1.sum(axis=1)"
   ]
  },
  {
   "cell_type": "code",
   "execution_count": 37,
   "id": "86526541-c168-4808-8cd4-10f6185e6ea4",
   "metadata": {},
   "outputs": [
    {
     "data": {
      "text/plain": [
       "<numpy.flatiter at 0x14cb77e00>"
      ]
     },
     "execution_count": 37,
     "metadata": {},
     "output_type": "execute_result"
    }
   ],
   "source": [
    "matrix1.flat"
   ]
  },
  {
   "cell_type": "code",
   "execution_count": 38,
   "id": "5575b50c-4365-45f2-ab75-3e087ccfddb0",
   "metadata": {},
   "outputs": [
    {
     "name": "stdout",
     "output_type": "stream",
     "text": [
      "1\n",
      "4\n",
      "3\n",
      "3\n",
      "5\n",
      "9\n",
      "3\n",
      "9\n",
      "6\n"
     ]
    }
   ],
   "source": [
    "for i in matrix1.flat:\n",
    "    print(i)"
   ]
  },
  {
   "cell_type": "code",
   "execution_count": 39,
   "id": "cd4a9bf5-abbd-4c68-a520-d9c15c602186",
   "metadata": {},
   "outputs": [
    {
     "data": {
      "text/plain": [
       "2"
      ]
     },
     "execution_count": 39,
     "metadata": {},
     "output_type": "execute_result"
    }
   ],
   "source": [
    "matrix1.ndim"
   ]
  },
  {
   "cell_type": "code",
   "execution_count": 40,
   "id": "4ca9b4bd-0783-48fb-ba49-58016a85a36a",
   "metadata": {},
   "outputs": [
    {
     "data": {
      "text/plain": [
       "72"
      ]
     },
     "execution_count": 40,
     "metadata": {},
     "output_type": "execute_result"
    }
   ],
   "source": [
    "matrix1.nbytes"
   ]
  },
  {
   "cell_type": "code",
   "execution_count": 41,
   "id": "6da1a6d2-0da7-4da5-9a16-01a44b281f73",
   "metadata": {},
   "outputs": [
    {
     "data": {
      "text/plain": [
       "np.int64(5)"
      ]
     },
     "execution_count": 41,
     "metadata": {},
     "output_type": "execute_result"
    }
   ],
   "source": [
    "matrix1.argmax()"
   ]
  },
  {
   "cell_type": "code",
   "execution_count": 42,
   "id": "fa7d85eb-d826-4889-82a9-0bd09aae1bb8",
   "metadata": {},
   "outputs": [
    {
     "data": {
      "text/plain": [
       "array([[1, 4, 3],\n",
       "       [3, 5, 9],\n",
       "       [3, 9, 6]])"
      ]
     },
     "execution_count": 42,
     "metadata": {},
     "output_type": "execute_result"
    }
   ],
   "source": [
    "matrix1"
   ]
  },
  {
   "cell_type": "code",
   "execution_count": 43,
   "id": "535d4af5-6f2d-4aef-ab1a-e53f05a12a86",
   "metadata": {},
   "outputs": [],
   "source": [
    "one=np.array([1,4,5,7,8,2,9,7,5])"
   ]
  },
  {
   "cell_type": "code",
   "execution_count": 44,
   "id": "a40ee086-c005-4af9-9343-49d3fb21038d",
   "metadata": {},
   "outputs": [
    {
     "name": "stdout",
     "output_type": "stream",
     "text": [
      "6\n"
     ]
    }
   ],
   "source": [
    "print(one.argmax())"
   ]
  },
  {
   "cell_type": "code",
   "execution_count": 45,
   "id": "6ccedd38-c3a2-4909-89e8-d18b17c6553d",
   "metadata": {},
   "outputs": [
    {
     "name": "stdout",
     "output_type": "stream",
     "text": [
      "[0 5 1 2 8 3 7 4 6]\n"
     ]
    }
   ],
   "source": [
    "print(one.argsort())"
   ]
  },
  {
   "cell_type": "code",
   "execution_count": 46,
   "id": "b369c76c-9ee6-4529-86bd-bb6e7e63baf1",
   "metadata": {},
   "outputs": [
    {
     "data": {
      "text/plain": [
       "np.int64(0)"
      ]
     },
     "execution_count": 46,
     "metadata": {},
     "output_type": "execute_result"
    }
   ],
   "source": [
    "matrix1.argmin()"
   ]
  },
  {
   "cell_type": "code",
   "execution_count": 47,
   "id": "2ad9a3a2-3de6-47af-a28d-2e3162524f3f",
   "metadata": {},
   "outputs": [
    {
     "data": {
      "text/plain": [
       "array([[0, 2, 1],\n",
       "       [0, 1, 2],\n",
       "       [0, 2, 1]])"
      ]
     },
     "execution_count": 47,
     "metadata": {},
     "output_type": "execute_result"
    }
   ],
   "source": [
    "matrix1.argsort()"
   ]
  },
  {
   "cell_type": "code",
   "execution_count": 48,
   "id": "c4da640b-f25d-4dd8-881d-3cf01d05801b",
   "metadata": {},
   "outputs": [
    {
     "data": {
      "text/plain": [
       "array([1, 2, 1])"
      ]
     },
     "execution_count": 48,
     "metadata": {},
     "output_type": "execute_result"
    }
   ],
   "source": [
    "matrix1.argmax(axis=1)"
   ]
  },
  {
   "cell_type": "code",
   "execution_count": 49,
   "id": "40c43321-9b7a-42b3-bded-f2a6f4876461",
   "metadata": {},
   "outputs": [
    {
     "data": {
      "text/plain": [
       "array([[0, 2, 1],\n",
       "       [0, 1, 2],\n",
       "       [0, 2, 1]])"
      ]
     },
     "execution_count": 49,
     "metadata": {},
     "output_type": "execute_result"
    }
   ],
   "source": [
    "matrix1.argsort(axis=1)"
   ]
  },
  {
   "cell_type": "code",
   "execution_count": 50,
   "id": "3fde317d-4a18-48b5-ab30-d88ffce669b6",
   "metadata": {},
   "outputs": [
    {
     "data": {
      "text/plain": [
       "array([[0, 0, 0],\n",
       "       [1, 1, 2],\n",
       "       [2, 2, 1]])"
      ]
     },
     "execution_count": 50,
     "metadata": {},
     "output_type": "execute_result"
    }
   ],
   "source": [
    "matrix1.argsort(axis=0)"
   ]
  },
  {
   "cell_type": "code",
   "execution_count": 51,
   "id": "6ec4be6d-e810-4ba1-af11-f472ef37c088",
   "metadata": {},
   "outputs": [],
   "source": [
    "matrix2=np.array([[1, 7, 3],\n",
    "       [3, 9, 3],\n",
    "       [3, 9, 5]])"
   ]
  },
  {
   "cell_type": "code",
   "execution_count": 52,
   "id": "4555c1f2-df92-4dff-9ced-560442b49b6b",
   "metadata": {},
   "outputs": [
    {
     "data": {
      "text/plain": [
       "array([[ 2, 11,  6],\n",
       "       [ 6, 14, 12],\n",
       "       [ 6, 18, 11]])"
      ]
     },
     "execution_count": 52,
     "metadata": {},
     "output_type": "execute_result"
    }
   ],
   "source": [
    "matrix1+matrix2"
   ]
  },
  {
   "cell_type": "code",
   "execution_count": 53,
   "id": "6bf3293a-f74b-4db1-a971-7d3361bd9e44",
   "metadata": {},
   "outputs": [
    {
     "data": {
      "text/plain": [
       "array([[ 1, 28,  9],\n",
       "       [ 9, 45, 27],\n",
       "       [ 9, 81, 30]])"
      ]
     },
     "execution_count": 53,
     "metadata": {},
     "output_type": "execute_result"
    }
   ],
   "source": [
    "matrix1*matrix2"
   ]
  },
  {
   "cell_type": "code",
   "execution_count": 54,
   "id": "0849e868-5ad3-4629-85d3-eb3aa99932e3",
   "metadata": {},
   "outputs": [
    {
     "data": {
      "text/plain": [
       "array([[1.        , 2.        , 1.73205081],\n",
       "       [1.73205081, 2.23606798, 3.        ],\n",
       "       [1.73205081, 3.        , 2.44948974]])"
      ]
     },
     "execution_count": 54,
     "metadata": {},
     "output_type": "execute_result"
    }
   ],
   "source": [
    "np.sqrt(matrix1)"
   ]
  },
  {
   "cell_type": "code",
   "execution_count": 55,
   "id": "158525aa-5381-42f0-8479-da65ab49dbfd",
   "metadata": {},
   "outputs": [
    {
     "data": {
      "text/plain": [
       "np.int64(43)"
      ]
     },
     "execution_count": 55,
     "metadata": {},
     "output_type": "execute_result"
    }
   ],
   "source": [
    "matrix1.sum()"
   ]
  },
  {
   "cell_type": "code",
   "execution_count": 56,
   "id": "cf8c9443-cdae-49d3-b336-b9692786838a",
   "metadata": {},
   "outputs": [
    {
     "data": {
      "text/plain": [
       "np.int64(9)"
      ]
     },
     "execution_count": 56,
     "metadata": {},
     "output_type": "execute_result"
    }
   ],
   "source": [
    "matrix1.max()"
   ]
  },
  {
   "cell_type": "code",
   "execution_count": 57,
   "id": "6f180d68-269e-4155-8829-f55ce962f212",
   "metadata": {},
   "outputs": [
    {
     "data": {
      "text/plain": [
       "np.int64(1)"
      ]
     },
     "execution_count": 57,
     "metadata": {},
     "output_type": "execute_result"
    }
   ],
   "source": [
    "matrix1.min()"
   ]
  },
  {
   "cell_type": "code",
   "execution_count": 58,
   "id": "439d7bbc-65af-4c32-a18b-51c0e0af66b7",
   "metadata": {},
   "outputs": [
    {
     "data": {
      "text/plain": [
       "(array([1, 2, 2]), array([2, 1, 2]))"
      ]
     },
     "execution_count": 58,
     "metadata": {},
     "output_type": "execute_result"
    }
   ],
   "source": [
    "np.where(matrix1>5)"
   ]
  },
  {
   "cell_type": "code",
   "execution_count": 59,
   "id": "6100e376-982b-43e7-bf10-dad5a9e973fe",
   "metadata": {},
   "outputs": [
    {
     "data": {
      "text/plain": [
       "array([[1, 4, 3],\n",
       "       [3, 5, 9],\n",
       "       [3, 9, 6]])"
      ]
     },
     "execution_count": 59,
     "metadata": {},
     "output_type": "execute_result"
    }
   ],
   "source": [
    "matrix1"
   ]
  },
  {
   "cell_type": "code",
   "execution_count": 60,
   "id": "b919c0c5-fc35-4af8-9fee-b4a7b6a16d34",
   "metadata": {},
   "outputs": [],
   "source": [
    "two=np.array([[6, 4, 3],\n",
    "       [3, 4, 9],\n",
    "       [3, 0, 3]])"
   ]
  },
  {
   "cell_type": "code",
   "execution_count": 61,
   "id": "cc8f7a06-3a67-454f-aa75-e43bd13f6c5a",
   "metadata": {},
   "outputs": [
    {
     "data": {
      "text/plain": [
       "(array([0, 1]), array([0, 2]))"
      ]
     },
     "execution_count": 61,
     "metadata": {},
     "output_type": "execute_result"
    }
   ],
   "source": [
    "np.where(two>4)"
   ]
  },
  {
   "cell_type": "code",
   "execution_count": 62,
   "id": "5b6d5698-54a8-4fe4-9afd-9887fb3a171c",
   "metadata": {},
   "outputs": [
    {
     "data": {
      "text/plain": [
       "8"
      ]
     },
     "execution_count": 62,
     "metadata": {},
     "output_type": "execute_result"
    }
   ],
   "source": [
    "np.count_nonzero(two)"
   ]
  },
  {
   "cell_type": "code",
   "execution_count": 63,
   "id": "91d0545a-e62c-4229-b563-4cefa96cbd89",
   "metadata": {},
   "outputs": [
    {
     "data": {
      "text/plain": [
       "(array([0, 0, 0, 1, 1, 1, 2, 2]), array([0, 1, 2, 0, 1, 2, 0, 2]))"
      ]
     },
     "execution_count": 63,
     "metadata": {},
     "output_type": "execute_result"
    }
   ],
   "source": [
    "np.nonzero(two)"
   ]
  },
  {
   "cell_type": "code",
   "execution_count": 64,
   "id": "a99be874-2893-4469-ba54-af597c7c63a9",
   "metadata": {},
   "outputs": [],
   "source": [
    "import sys"
   ]
  },
  {
   "cell_type": "code",
   "execution_count": 65,
   "id": "898492a2-0880-47cc-9cac-080cd20ca92e",
   "metadata": {},
   "outputs": [],
   "source": [
    "py_ar=[1,6,8,66]"
   ]
  },
  {
   "cell_type": "code",
   "execution_count": 66,
   "id": "83fc5d57-6cdb-42f6-b094-5d4013a8b5a1",
   "metadata": {},
   "outputs": [],
   "source": [
    "np_arr=np.array(py_ar)"
   ]
  },
  {
   "cell_type": "code",
   "execution_count": 67,
   "id": "f66d0cd0-4b58-4da4-bc24-996bc264b83b",
   "metadata": {},
   "outputs": [
    {
     "data": {
      "text/plain": [
       "112"
      ]
     },
     "execution_count": 67,
     "metadata": {},
     "output_type": "execute_result"
    }
   ],
   "source": [
    "sys.getsizeof(1)*len(py_ar)"
   ]
  },
  {
   "cell_type": "code",
   "execution_count": 68,
   "id": "9bf0b59b-bfc3-4bb1-900f-74f32874e18f",
   "metadata": {},
   "outputs": [
    {
     "data": {
      "text/plain": [
       "32"
      ]
     },
     "execution_count": 68,
     "metadata": {},
     "output_type": "execute_result"
    }
   ],
   "source": [
    "np_arr.itemsize*np_arr.size"
   ]
  },
  {
   "cell_type": "code",
   "execution_count": 69,
   "id": "2ea45e8d-dd52-4030-ac6b-66fe8dcdc7ed",
   "metadata": {},
   "outputs": [
    {
     "name": "stdout",
     "output_type": "stream",
     "text": [
      "[ 1  6  8 66]\n"
     ]
    }
   ],
   "source": [
    "print(np_arr)"
   ]
  },
  {
   "cell_type": "code",
   "execution_count": null,
   "id": "18b8d71b-577d-4311-a682-6275cd47d914",
   "metadata": {},
   "outputs": [],
   "source": []
  }
 ],
 "metadata": {
  "kernelspec": {
   "display_name": "Python 3 (ipykernel)",
   "language": "python",
   "name": "python3"
  },
  "language_info": {
   "codemirror_mode": {
    "name": "ipython",
    "version": 3
   },
   "file_extension": ".py",
   "mimetype": "text/x-python",
   "name": "python",
   "nbconvert_exporter": "python",
   "pygments_lexer": "ipython3",
   "version": "3.12.0"
  }
 },
 "nbformat": 4,
 "nbformat_minor": 5
}
