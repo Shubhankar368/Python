{
 "cells": [
  {
   "cell_type": "code",
   "execution_count": 1,
   "id": "a0d130da-bbc4-4ca6-bccc-9fceee197a0a",
   "metadata": {},
   "outputs": [],
   "source": [
    "import numpy as np"
   ]
  },
  {
   "cell_type": "code",
   "execution_count": 2,
   "id": "3f45aa1f-5892-4277-837a-3bebcbe54e7e",
   "metadata": {},
   "outputs": [],
   "source": [
    "a=5"
   ]
  },
  {
   "cell_type": "code",
   "execution_count": 3,
   "id": "bf859807-875e-4e4a-85fe-e9e49857774f",
   "metadata": {},
   "outputs": [],
   "source": [
    "b=3"
   ]
  },
  {
   "cell_type": "code",
   "execution_count": 4,
   "id": "756cf88d-d753-4c36-add3-313fb75e8d2d",
   "metadata": {},
   "outputs": [
    {
     "name": "stdout",
     "output_type": "stream",
     "text": [
      "8\n"
     ]
    }
   ],
   "source": [
    "print(a+b)"
   ]
  },
  {
   "cell_type": "markdown",
   "id": "c96999aa-cb9e-44c6-8eff-0e5121d77e48",
   "metadata": {},
   "source": [
    "*bold*"
   ]
  },
  {
   "cell_type": "markdown",
   "id": "fac6a4b4-f98d-4010-855b-ebdf53a527ff",
   "metadata": {},
   "source": [
    "**italic**"
   ]
  },
  {
   "cell_type": "markdown",
   "id": "027c5b1e-6320-4518-bf34-5e674f62117e",
   "metadata": {},
   "source": [
    "***Underline***"
   ]
  },
  {
   "cell_type": "code",
   "execution_count": null,
   "id": "07936488-2426-43dd-84da-a461e8a538e3",
   "metadata": {},
   "outputs": [],
   "source": []
  }
 ],
 "metadata": {
  "kernelspec": {
   "display_name": "Python 3 (ipykernel)",
   "language": "python",
   "name": "python3"
  },
  "language_info": {
   "codemirror_mode": {
    "name": "ipython",
    "version": 3
   },
   "file_extension": ".py",
   "mimetype": "text/x-python",
   "name": "python",
   "nbconvert_exporter": "python",
   "pygments_lexer": "ipython3",
   "version": "3.12.0"
  }
 },
 "nbformat": 4,
 "nbformat_minor": 5
}
